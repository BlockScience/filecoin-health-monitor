{
 "cells": [
  {
   "cell_type": "code",
   "execution_count": 1,
   "metadata": {},
   "outputs": [],
   "source": [
    "# Dependences\n",
    "import os\n",
    "import json\n",
    "import requests as req\n",
    "import plotly.express as px\n",
    "import pandas as pd\n",
    "from sqlalchemy import create_engine\n",
    "from time import time\n",
    "\n",
    "# Prepare SQL connection string to be used on the functions\n",
    "CONN_STRING_PATH = '../config/sentinel-conn-string.txt'\n",
    "\n",
    "with open(CONN_STRING_PATH, 'r') as fid:\n",
    "    conn_string = fid.read()\n",
    "    \n",
    "connection = create_engine(conn_string, pool_recycle=3600).connect()"
   ]
  },
  {
   "cell_type": "code",
   "execution_count": 15,
   "metadata": {},
   "outputs": [
    {
     "data": {
      "text/html": [
       "<div>\n",
       "<style scoped>\n",
       "    .dataframe tbody tr th:only-of-type {\n",
       "        vertical-align: middle;\n",
       "    }\n",
       "\n",
       "    .dataframe tbody tr th {\n",
       "        vertical-align: top;\n",
       "    }\n",
       "\n",
       "    .dataframe thead th {\n",
       "        text-align: right;\n",
       "    }\n",
       "</style>\n",
       "<table border=\"1\" class=\"dataframe\">\n",
       "  <thead>\n",
       "    <tr style=\"text-align: right;\">\n",
       "      <th></th>\n",
       "      <th>timestamp</th>\n",
       "      <th>circulating_fil</th>\n",
       "      <th>vested_fil</th>\n",
       "      <th>mined_fil</th>\n",
       "      <th>burnt_fil</th>\n",
       "      <th>locked_fil</th>\n",
       "      <th>total_power</th>\n",
       "    </tr>\n",
       "  </thead>\n",
       "  <tbody>\n",
       "    <tr>\n",
       "      <th>0</th>\n",
       "      <td>2020-11-16 21:25:30+00:00</td>\n",
       "      <td>3.298818e+07</td>\n",
       "      <td>2.537157e+07</td>\n",
       "      <td>1.177528e+07</td>\n",
       "      <td>4.027086e+06</td>\n",
       "      <td>1.719821e+07</td>\n",
       "      <td>NaN</td>\n",
       "    </tr>\n",
       "    <tr>\n",
       "      <th>1</th>\n",
       "      <td>2020-11-16 21:25:30+00:00</td>\n",
       "      <td>3.298818e+07</td>\n",
       "      <td>2.537157e+07</td>\n",
       "      <td>1.177528e+07</td>\n",
       "      <td>4.027086e+06</td>\n",
       "      <td>1.719821e+07</td>\n",
       "      <td>NaN</td>\n",
       "    </tr>\n",
       "    <tr>\n",
       "      <th>2</th>\n",
       "      <td>2020-11-16 21:25:30+00:00</td>\n",
       "      <td>3.298818e+07</td>\n",
       "      <td>2.537157e+07</td>\n",
       "      <td>1.177528e+07</td>\n",
       "      <td>4.027086e+06</td>\n",
       "      <td>1.719821e+07</td>\n",
       "      <td>NaN</td>\n",
       "    </tr>\n",
       "    <tr>\n",
       "      <th>3</th>\n",
       "      <td>2020-11-16 21:25:30+00:00</td>\n",
       "      <td>3.298818e+07</td>\n",
       "      <td>2.537157e+07</td>\n",
       "      <td>1.177528e+07</td>\n",
       "      <td>4.027086e+06</td>\n",
       "      <td>1.719821e+07</td>\n",
       "      <td>NaN</td>\n",
       "    </tr>\n",
       "    <tr>\n",
       "      <th>4</th>\n",
       "      <td>2020-11-16 21:25:30+00:00</td>\n",
       "      <td>3.298818e+07</td>\n",
       "      <td>2.537157e+07</td>\n",
       "      <td>1.177528e+07</td>\n",
       "      <td>4.027086e+06</td>\n",
       "      <td>1.719821e+07</td>\n",
       "      <td>NaN</td>\n",
       "    </tr>\n",
       "  </tbody>\n",
       "</table>\n",
       "</div>"
      ],
      "text/plain": [
       "                  timestamp  circulating_fil    vested_fil     mined_fil  \\\n",
       "0 2020-11-16 21:25:30+00:00     3.298818e+07  2.537157e+07  1.177528e+07   \n",
       "1 2020-11-16 21:25:30+00:00     3.298818e+07  2.537157e+07  1.177528e+07   \n",
       "2 2020-11-16 21:25:30+00:00     3.298818e+07  2.537157e+07  1.177528e+07   \n",
       "3 2020-11-16 21:25:30+00:00     3.298818e+07  2.537157e+07  1.177528e+07   \n",
       "4 2020-11-16 21:25:30+00:00     3.298818e+07  2.537157e+07  1.177528e+07   \n",
       "\n",
       "      burnt_fil    locked_fil  total_power  \n",
       "0  4.027086e+06  1.719821e+07          NaN  \n",
       "1  4.027086e+06  1.719821e+07          NaN  \n",
       "2  4.027086e+06  1.719821e+07          NaN  \n",
       "3  4.027086e+06  1.719821e+07          NaN  \n",
       "4  4.027086e+06  1.719821e+07          NaN  "
      ]
     },
     "execution_count": 15,
     "metadata": {},
     "output_type": "execute_result"
    }
   ],
   "source": [
    "QUERY = \"\"\"\n",
    "        SELECT \n",
    "             to_timestamp(b.timestamp) AS timestamp\n",
    "            ,ce.circulating_fil::NUMERIC / 1e18 AS circulating_fil\n",
    "            ,ce.vested_fil::NUMERIC / 1e18 AS vested_fil\n",
    "            ,ce.mined_fil::NUMERIC / 1e18 AS mined_fil\n",
    "            ,ce.burnt_fil::NUMERIC / 1e18 AS burnt_fil\n",
    "            ,ce.locked_fil::NUMERIC / 1e18 AS locked_fil\n",
    "              \n",
    "        FROM chain_economics ce\n",
    "        LEFT JOIN block_headers b \n",
    "            ON b.parent_state_root = ce.parent_state_root \n",
    "            \"\"\"\n",
    "\n",
    "df = ( pd.read_sql(QUERY, connection) )\n",
    "df.head()"
   ]
  },
  {
   "cell_type": "code",
   "execution_count": 4,
   "metadata": {},
   "outputs": [
    {
     "data": {
      "text/plain": [
       "(977157, 6)"
      ]
     },
     "execution_count": 4,
     "metadata": {},
     "output_type": "execute_result"
    }
   ],
   "source": [
    "df.shape"
   ]
  },
  {
   "cell_type": "code",
   "execution_count": 20,
   "metadata": {},
   "outputs": [
    {
     "data": {
      "text/html": [
       "<div>\n",
       "<style scoped>\n",
       "    .dataframe tbody tr th:only-of-type {\n",
       "        vertical-align: middle;\n",
       "    }\n",
       "\n",
       "    .dataframe tbody tr th {\n",
       "        vertical-align: top;\n",
       "    }\n",
       "\n",
       "    .dataframe thead th {\n",
       "        text-align: right;\n",
       "    }\n",
       "</style>\n",
       "<table border=\"1\" class=\"dataframe\">\n",
       "  <thead>\n",
       "    <tr style=\"text-align: right;\">\n",
       "      <th></th>\n",
       "      <th>time</th>\n",
       "      <th>total_power</th>\n",
       "      <th>total_committed</th>\n",
       "      <th>position_estimate</th>\n",
       "      <th>total_committed_over_power</th>\n",
       "      <th>position_estimate</th>\n",
       "      <th>velocity_estimate</th>\n",
       "    </tr>\n",
       "  </thead>\n",
       "  <tbody>\n",
       "    <tr>\n",
       "      <th>0</th>\n",
       "      <td>1.598306e+09</td>\n",
       "      <td>0.703125</td>\n",
       "      <td>0.703125</td>\n",
       "      <td>0.941073</td>\n",
       "      <td>1.000000</td>\n",
       "      <td>1.338415</td>\n",
       "      <td>0.003659</td>\n",
       "    </tr>\n",
       "    <tr>\n",
       "      <th>1</th>\n",
       "      <td>1.598310e+09</td>\n",
       "      <td>0.629112</td>\n",
       "      <td>0.629112</td>\n",
       "      <td>1.343444</td>\n",
       "      <td>1.000000</td>\n",
       "      <td>2.238436</td>\n",
       "      <td>0.003643</td>\n",
       "    </tr>\n",
       "    <tr>\n",
       "      <th>2</th>\n",
       "      <td>1.598314e+09</td>\n",
       "      <td>0.468750</td>\n",
       "      <td>0.468750</td>\n",
       "      <td>1.648040</td>\n",
       "      <td>1.000000</td>\n",
       "      <td>3.515818</td>\n",
       "      <td>0.003612</td>\n",
       "    </tr>\n",
       "    <tr>\n",
       "      <th>3</th>\n",
       "      <td>1.598317e+09</td>\n",
       "      <td>0.468750</td>\n",
       "      <td>0.468757</td>\n",
       "      <td>1.933061</td>\n",
       "      <td>1.000014</td>\n",
       "      <td>4.123863</td>\n",
       "      <td>0.003567</td>\n",
       "    </tr>\n",
       "    <tr>\n",
       "      <th>4</th>\n",
       "      <td>1.598321e+09</td>\n",
       "      <td>0.468750</td>\n",
       "      <td>0.469831</td>\n",
       "      <td>2.181303</td>\n",
       "      <td>1.002306</td>\n",
       "      <td>4.653446</td>\n",
       "      <td>0.003512</td>\n",
       "    </tr>\n",
       "  </tbody>\n",
       "</table>\n",
       "</div>"
      ],
      "text/plain": [
       "           time  total_power  total_committed  position_estimate  \\\n",
       "0  1.598306e+09     0.703125         0.703125           0.941073   \n",
       "1  1.598310e+09     0.629112         0.629112           1.343444   \n",
       "2  1.598314e+09     0.468750         0.468750           1.648040   \n",
       "3  1.598317e+09     0.468750         0.468757           1.933061   \n",
       "4  1.598321e+09     0.468750         0.469831           2.181303   \n",
       "\n",
       "   total_committed_over_power  position_estimate  velocity_estimate  \n",
       "0                    1.000000           1.338415           0.003659  \n",
       "1                    1.000000           2.238436           0.003643  \n",
       "2                    1.000000           3.515818           0.003612  \n",
       "3                    1.000014           4.123863           0.003567  \n",
       "4                    1.002306           4.653446           0.003512  "
      ]
     },
     "execution_count": 20,
     "metadata": {},
     "output_type": "execute_result"
    }
   ],
   "source": [
    "query = \"\"\"\n",
    "    SELECT \n",
    "         MIN(bh.timestamp) AS time\n",
    "        ,AVG(total_qa_bytes_power::numeric) * 2^(-50) AS total_power\n",
    "        ,AVG(total_qa_bytes_committed::numeric) * 2^(-50) as total_committed\n",
    "        ,AVG(qa_smoothed_position_estimate::numeric) * 2^(-128) * 2^(-50) AS position_estimate\n",
    "        ,AVG(total_qa_bytes_committed::numeric / total_qa_bytes_power::numeric) as total_committed_over_power\n",
    "        ,AVG(qa_smoothed_position_estimate::numeric * 2^(-128) / total_qa_bytes_power::numeric) AS position_estimate\n",
    "        ,AVG(cp.qa_smoothed_velocity_estimate::numeric * 2^(-128) * 2^(-50)) AS velocity_estimate\n",
    "        \n",
    "\n",
    "    FROM chain_powers cp\n",
    "    LEFT JOIN block_headers bh\n",
    "        ON bh.parent_state_root = cp.state_root\n",
    "        \n",
    "    GROUP BY date_trunc('hour',  to_timestamp(bh.timestamp))\n",
    "\"\"\"\n",
    "df = ( pd.read_sql(query, connection) )\n",
    "df.head()"
   ]
  },
  {
   "cell_type": "code",
   "execution_count": 21,
   "metadata": {},
   "outputs": [
    {
     "data": {
      "text/plain": [
       "(2529, 7)"
      ]
     },
     "execution_count": 21,
     "metadata": {},
     "output_type": "execute_result"
    }
   ],
   "source": [
    "df.shape"
   ]
  },
  {
   "cell_type": "code",
   "execution_count": 2,
   "metadata": {},
   "outputs": [
    {
     "data": {
      "text/html": [
       "<div>\n",
       "<style scoped>\n",
       "    .dataframe tbody tr th:only-of-type {\n",
       "        vertical-align: middle;\n",
       "    }\n",
       "\n",
       "    .dataframe tbody tr th {\n",
       "        vertical-align: top;\n",
       "    }\n",
       "\n",
       "    .dataframe thead th {\n",
       "        text-align: right;\n",
       "    }\n",
       "</style>\n",
       "<table border=\"1\" class=\"dataframe\">\n",
       "  <thead>\n",
       "    <tr style=\"text-align: right;\">\n",
       "      <th></th>\n",
       "      <th>count</th>\n",
       "    </tr>\n",
       "  </thead>\n",
       "  <tbody>\n",
       "    <tr>\n",
       "      <th>0</th>\n",
       "      <td>208603</td>\n",
       "    </tr>\n",
       "  </tbody>\n",
       "</table>\n",
       "</div>"
      ],
      "text/plain": [
       "    count\n",
       "0  208603"
      ]
     },
     "execution_count": 2,
     "metadata": {},
     "output_type": "execute_result"
    }
   ],
   "source": [
    "query = \"\"\"\n",
    "    SELECT \n",
    "         COUNT(*)       \n",
    "\n",
    "    FROM chain_powers cp\n",
    "    \n",
    "\"\"\"\n",
    "df = ( pd.read_sql(query, connection) )\n",
    "df.head()"
   ]
  },
  {
   "cell_type": "code",
   "execution_count": 24,
   "metadata": {},
   "outputs": [
    {
     "data": {
      "text/html": [
       "<div>\n",
       "<style scoped>\n",
       "    .dataframe tbody tr th:only-of-type {\n",
       "        vertical-align: middle;\n",
       "    }\n",
       "\n",
       "    .dataframe tbody tr th {\n",
       "        vertical-align: top;\n",
       "    }\n",
       "\n",
       "    .dataframe thead th {\n",
       "        text-align: right;\n",
       "    }\n",
       "</style>\n",
       "<table border=\"1\" class=\"dataframe\">\n",
       "  <thead>\n",
       "    <tr style=\"text-align: right;\">\n",
       "      <th></th>\n",
       "      <th>time</th>\n",
       "      <th>per_epoch_reward_actual</th>\n",
       "      <th>per_epoch_reward_position_estimate</th>\n",
       "    </tr>\n",
       "  </thead>\n",
       "  <tbody>\n",
       "    <tr>\n",
       "      <th>0</th>\n",
       "      <td>1.598306e+09</td>\n",
       "      <td>36.271819</td>\n",
       "      <td>36.266576</td>\n",
       "    </tr>\n",
       "    <tr>\n",
       "      <th>1</th>\n",
       "      <td>1.598310e+09</td>\n",
       "      <td>36.270711</td>\n",
       "      <td>36.267119</td>\n",
       "    </tr>\n",
       "    <tr>\n",
       "      <th>2</th>\n",
       "      <td>1.598314e+09</td>\n",
       "      <td>36.268941</td>\n",
       "      <td>36.267388</td>\n",
       "    </tr>\n",
       "    <tr>\n",
       "      <th>3</th>\n",
       "      <td>1.598317e+09</td>\n",
       "      <td>36.268461</td>\n",
       "      <td>36.267554</td>\n",
       "    </tr>\n",
       "    <tr>\n",
       "      <th>4</th>\n",
       "      <td>1.598321e+09</td>\n",
       "      <td>36.268070</td>\n",
       "      <td>36.267657</td>\n",
       "    </tr>\n",
       "  </tbody>\n",
       "</table>\n",
       "</div>"
      ],
      "text/plain": [
       "           time  per_epoch_reward_actual  per_epoch_reward_position_estimate\n",
       "0  1.598306e+09                36.271819                           36.266576\n",
       "1  1.598310e+09                36.270711                           36.267119\n",
       "2  1.598314e+09                36.268941                           36.267388\n",
       "3  1.598317e+09                36.268461                           36.267554\n",
       "4  1.598321e+09                36.268070                           36.267657"
      ]
     },
     "execution_count": 24,
     "metadata": {},
     "output_type": "execute_result"
    }
   ],
   "source": [
    "query = \"\"\"\n",
    "    SELECT\n",
    "         MIN( bh.timestamp ) AS time\n",
    "        ,AVG( cr.new_reward::numeric * 1e-18 ) as Per_Epoch_Reward_Actual\n",
    "        ,AVG( cr.new_reward_smoothed_position_estimate::numeric * 2^(-128) * 1e-18 ) as Per_Epoch_Reward_Position_Estimate\n",
    "              \n",
    "        FROM chain_rewards cr\n",
    "        LEFT JOIN block_headers bh\n",
    "            ON bh.parent_state_root = cr.state_root\n",
    "        \n",
    "        GROUP BY date_trunc('hour', to_timestamp(bh.timestamp))\n",
    "        \n",
    "        ORDER BY time ASC\n",
    "\"\"\"\n",
    "df = ( pd.read_sql(query, connection) )\n",
    "df.head()"
   ]
  },
  {
   "cell_type": "code",
   "execution_count": 23,
   "metadata": {},
   "outputs": [
    {
     "data": {
      "text/plain": [
       "(2529, 2)"
      ]
     },
     "execution_count": 23,
     "metadata": {},
     "output_type": "execute_result"
    }
   ],
   "source": [
    "df.shape"
   ]
  },
  {
   "cell_type": "code",
   "execution_count": 3,
   "metadata": {},
   "outputs": [
    {
     "data": {
      "text/html": [
       "<div>\n",
       "<style scoped>\n",
       "    .dataframe tbody tr th:only-of-type {\n",
       "        vertical-align: middle;\n",
       "    }\n",
       "\n",
       "    .dataframe tbody tr th {\n",
       "        vertical-align: top;\n",
       "    }\n",
       "\n",
       "    .dataframe thead th {\n",
       "        text-align: right;\n",
       "    }\n",
       "</style>\n",
       "<table border=\"1\" class=\"dataframe\">\n",
       "  <thead>\n",
       "    <tr style=\"text-align: right;\">\n",
       "      <th></th>\n",
       "      <th>count</th>\n",
       "    </tr>\n",
       "  </thead>\n",
       "  <tbody>\n",
       "    <tr>\n",
       "      <th>0</th>\n",
       "      <td>237979</td>\n",
       "    </tr>\n",
       "  </tbody>\n",
       "</table>\n",
       "</div>"
      ],
      "text/plain": [
       "    count\n",
       "0  237979"
      ]
     },
     "execution_count": 3,
     "metadata": {},
     "output_type": "execute_result"
    }
   ],
   "source": [
    "query = \"\"\"\n",
    "    SELECT \n",
    "         COUNT(*)       \n",
    "\n",
    "    FROM chain_rewards cr\n",
    "    \n",
    "\"\"\"\n",
    "df = ( pd.read_sql(query, connection) )\n",
    "df.head()"
   ]
  },
  {
   "cell_type": "code",
   "execution_count": 33,
   "metadata": {},
   "outputs": [
    {
     "data": {
      "text/html": [
       "<div>\n",
       "<style scoped>\n",
       "    .dataframe tbody tr th:only-of-type {\n",
       "        vertical-align: middle;\n",
       "    }\n",
       "\n",
       "    .dataframe tbody tr th {\n",
       "        vertical-align: top;\n",
       "    }\n",
       "\n",
       "    .dataframe thead th {\n",
       "        text-align: right;\n",
       "    }\n",
       "</style>\n",
       "<table border=\"1\" class=\"dataframe\">\n",
       "  <thead>\n",
       "    <tr style=\"text-align: right;\">\n",
       "      <th></th>\n",
       "      <th>time_stamp</th>\n",
       "      <th>count</th>\n",
       "    </tr>\n",
       "  </thead>\n",
       "  <tbody>\n",
       "    <tr>\n",
       "      <th>0</th>\n",
       "      <td>NaT</td>\n",
       "      <td>1008</td>\n",
       "    </tr>\n",
       "    <tr>\n",
       "      <th>1</th>\n",
       "      <td>2020-10-21 02:00:00+00:00</td>\n",
       "      <td>66618</td>\n",
       "    </tr>\n",
       "    <tr>\n",
       "      <th>2</th>\n",
       "      <td>2020-09-26 09:00:00+00:00</td>\n",
       "      <td>92228</td>\n",
       "    </tr>\n",
       "    <tr>\n",
       "      <th>3</th>\n",
       "      <td>2020-09-29 10:00:00+00:00</td>\n",
       "      <td>121136</td>\n",
       "    </tr>\n",
       "    <tr>\n",
       "      <th>4</th>\n",
       "      <td>2020-09-22 14:00:00+00:00</td>\n",
       "      <td>94492</td>\n",
       "    </tr>\n",
       "  </tbody>\n",
       "</table>\n",
       "</div>"
      ],
      "text/plain": [
       "                 time_stamp   count\n",
       "0                       NaT    1008\n",
       "1 2020-10-21 02:00:00+00:00   66618\n",
       "2 2020-09-26 09:00:00+00:00   92228\n",
       "3 2020-09-29 10:00:00+00:00  121136\n",
       "4 2020-09-22 14:00:00+00:00   94492"
      ]
     },
     "execution_count": 33,
     "metadata": {},
     "output_type": "execute_result"
    }
   ],
   "source": [
    "query = \"\"\"\n",
    "    SELECT \n",
    "         date_trunc( 'hour',  to_timestamp( bh.timestamp ) ) AS time_stamp\n",
    "         ,COUNT( info.expiration_epoch )\n",
    "        \n",
    "        \n",
    "    FROM miner_sector_infos as info\n",
    "    LEFT JOIN block_headers bh\n",
    "        ON bh.parent_state_root = info.state_root\n",
    "    \n",
    "    GROUP BY date_trunc('hour',  to_timestamp(bh.timestamp))\n",
    "\"\"\"\n",
    "df = ( pd.read_sql(query, connection) )\n",
    "df.head()"
   ]
  },
  {
   "cell_type": "code",
   "execution_count": 34,
   "metadata": {},
   "outputs": [
    {
     "data": {
      "text/plain": [
       "(1070, 2)"
      ]
     },
     "execution_count": 34,
     "metadata": {},
     "output_type": "execute_result"
    }
   ],
   "source": [
    "df.shape"
   ]
  },
  {
   "cell_type": "code",
   "execution_count": 4,
   "metadata": {},
   "outputs": [
    {
     "data": {
      "text/html": [
       "<div>\n",
       "<style scoped>\n",
       "    .dataframe tbody tr th:only-of-type {\n",
       "        vertical-align: middle;\n",
       "    }\n",
       "\n",
       "    .dataframe tbody tr th {\n",
       "        vertical-align: top;\n",
       "    }\n",
       "\n",
       "    .dataframe thead th {\n",
       "        text-align: right;\n",
       "    }\n",
       "</style>\n",
       "<table border=\"1\" class=\"dataframe\">\n",
       "  <thead>\n",
       "    <tr style=\"text-align: right;\">\n",
       "      <th></th>\n",
       "      <th>date</th>\n",
       "      <th>number_of_deals_made</th>\n",
       "      <th>number_of_terminated_deals</th>\n",
       "    </tr>\n",
       "  </thead>\n",
       "  <tbody>\n",
       "    <tr>\n",
       "      <th>0</th>\n",
       "      <td>2020-08-24 22:00:00+00:00</td>\n",
       "      <td>0</td>\n",
       "      <td>0</td>\n",
       "    </tr>\n",
       "    <tr>\n",
       "      <th>1</th>\n",
       "      <td>2020-08-24 22:55:00+00:00</td>\n",
       "      <td>4608</td>\n",
       "      <td>0</td>\n",
       "    </tr>\n",
       "    <tr>\n",
       "      <th>2</th>\n",
       "      <td>2020-08-25 06:17:00+00:00</td>\n",
       "      <td>0</td>\n",
       "      <td>0</td>\n",
       "    </tr>\n",
       "    <tr>\n",
       "      <th>3</th>\n",
       "      <td>2020-08-25 06:25:00+00:00</td>\n",
       "      <td>0</td>\n",
       "      <td>0</td>\n",
       "    </tr>\n",
       "    <tr>\n",
       "      <th>4</th>\n",
       "      <td>2020-08-25 07:23:00+00:00</td>\n",
       "      <td>0</td>\n",
       "      <td>0</td>\n",
       "    </tr>\n",
       "  </tbody>\n",
       "</table>\n",
       "</div>"
      ],
      "text/plain": [
       "                       date  number_of_deals_made  number_of_terminated_deals\n",
       "0 2020-08-24 22:00:00+00:00                     0                           0\n",
       "1 2020-08-24 22:55:00+00:00                  4608                           0\n",
       "2 2020-08-25 06:17:00+00:00                     0                           0\n",
       "3 2020-08-25 06:25:00+00:00                     0                           0\n",
       "4 2020-08-25 07:23:00+00:00                     0                           0"
      ]
     },
     "execution_count": 4,
     "metadata": {},
     "output_type": "execute_result"
    }
   ],
   "source": [
    "query = \"\"\"\n",
    "    SELECT \n",
    "         date_trunc( 'minute',  to_timestamp( bh.timestamp ) ) AS date\n",
    "        ,COUNT( CASE WHEN info.last_update_epoch > 0 THEN deal_id ELSE NULL END ) AS number_of_deals_made\n",
    "        ,COUNT( CASE WHEN info.slash_epoch > 0 THEN deal_id else NULL END ) AS number_of_terminated_deals\n",
    "    \n",
    "    FROM market_deal_states as info\n",
    "    LEFT JOIN block_headers bh\n",
    "        ON bh.parent_state_root = info.state_root\n",
    "    \n",
    "    GROUP BY date_trunc('minute',  to_timestamp(bh.timestamp))\n",
    "\"\"\"\n",
    "df = ( pd.read_sql(query, connection) )\n",
    "df.head()"
   ]
  },
  {
   "cell_type": "code",
   "execution_count": 5,
   "metadata": {},
   "outputs": [
    {
     "data": {
      "text/plain": [
       "(104222, 3)"
      ]
     },
     "execution_count": 5,
     "metadata": {},
     "output_type": "execute_result"
    }
   ],
   "source": [
    "df.shape"
   ]
  },
  {
   "cell_type": "code",
   "execution_count": 43,
   "metadata": {},
   "outputs": [
    {
     "data": {
      "text/html": [
       "<div>\n",
       "<style scoped>\n",
       "    .dataframe tbody tr th:only-of-type {\n",
       "        vertical-align: middle;\n",
       "    }\n",
       "\n",
       "    .dataframe tbody tr th {\n",
       "        vertical-align: top;\n",
       "    }\n",
       "\n",
       "    .dataframe thead th {\n",
       "        text-align: right;\n",
       "    }\n",
       "</style>\n",
       "<table border=\"1\" class=\"dataframe\">\n",
       "  <thead>\n",
       "    <tr style=\"text-align: right;\">\n",
       "      <th></th>\n",
       "      <th>count</th>\n",
       "    </tr>\n",
       "  </thead>\n",
       "  <tbody>\n",
       "    <tr>\n",
       "      <th>0</th>\n",
       "      <td>149981352</td>\n",
       "    </tr>\n",
       "  </tbody>\n",
       "</table>\n",
       "</div>"
      ],
      "text/plain": [
       "       count\n",
       "0  149981352"
      ]
     },
     "execution_count": 43,
     "metadata": {},
     "output_type": "execute_result"
    }
   ],
   "source": [
    "query = \"\"\"\n",
    "    SELECT \n",
    "         COUNT(*)\n",
    "        \n",
    "    FROM market_deal_states as info\n",
    "    LEFT JOIN block_headers bh\n",
    "        ON bh.parent_state_root = info.state_root\n",
    "    \n",
    "    WHERE\n",
    "        info.last_update_epoch > 0\n",
    "\"\"\"\n",
    "df = ( pd.read_sql(query, connection) )\n",
    "df.head()"
   ]
  },
  {
   "cell_type": "code",
   "execution_count": 7,
   "metadata": {},
   "outputs": [
    {
     "data": {
      "text/html": [
       "<div>\n",
       "<style scoped>\n",
       "    .dataframe tbody tr th:only-of-type {\n",
       "        vertical-align: middle;\n",
       "    }\n",
       "\n",
       "    .dataframe tbody tr th {\n",
       "        vertical-align: top;\n",
       "    }\n",
       "\n",
       "    .dataframe thead th {\n",
       "        text-align: right;\n",
       "    }\n",
       "</style>\n",
       "<table border=\"1\" class=\"dataframe\">\n",
       "  <thead>\n",
       "    <tr style=\"text-align: right;\">\n",
       "      <th></th>\n",
       "      <th>date_trunc</th>\n",
       "      <th>upcoming_sector_expiration</th>\n",
       "    </tr>\n",
       "  </thead>\n",
       "  <tbody>\n",
       "    <tr>\n",
       "      <th>0</th>\n",
       "      <td>NaT</td>\n",
       "      <td>1008</td>\n",
       "    </tr>\n",
       "    <tr>\n",
       "      <th>1</th>\n",
       "      <td>2020-10-08 22:11:00+00:00</td>\n",
       "      <td>3072</td>\n",
       "    </tr>\n",
       "    <tr>\n",
       "      <th>2</th>\n",
       "      <td>2020-10-11 01:19:00+00:00</td>\n",
       "      <td>13178</td>\n",
       "    </tr>\n",
       "    <tr>\n",
       "      <th>3</th>\n",
       "      <td>2020-10-11 14:56:00+00:00</td>\n",
       "      <td>1776</td>\n",
       "    </tr>\n",
       "    <tr>\n",
       "      <th>4</th>\n",
       "      <td>2020-10-19 15:38:00+00:00</td>\n",
       "      <td>2772</td>\n",
       "    </tr>\n",
       "  </tbody>\n",
       "</table>\n",
       "</div>"
      ],
      "text/plain": [
       "                 date_trunc  upcoming_sector_expiration\n",
       "0                       NaT                        1008\n",
       "1 2020-10-08 22:11:00+00:00                        3072\n",
       "2 2020-10-11 01:19:00+00:00                       13178\n",
       "3 2020-10-11 14:56:00+00:00                        1776\n",
       "4 2020-10-19 15:38:00+00:00                        2772"
      ]
     },
     "execution_count": 7,
     "metadata": {},
     "output_type": "execute_result"
    }
   ],
   "source": [
    "query = \"\"\"\n",
    "    SELECT\n",
    "         date_trunc('minute',  to_timestamp(bh.timestamp))\n",
    "        ,COUNT(info.expiration_epoch) AS Upcoming_Sector_Expiration\n",
    "       \n",
    "    FROM miner_sector_infos as info\n",
    "    LEFT JOIN block_headers bh\n",
    "        ON bh.parent_state_root = info.state_root\n",
    "        \n",
    "    GROUP BY date_trunc('minute',  to_timestamp(bh.timestamp))\n",
    "\"\"\"\n",
    "df = ( pd.read_sql(query, connection) )\n",
    "df.head()"
   ]
  },
  {
   "cell_type": "code",
   "execution_count": 8,
   "metadata": {},
   "outputs": [
    {
     "data": {
      "text/plain": [
       "(63926, 2)"
      ]
     },
     "execution_count": 8,
     "metadata": {},
     "output_type": "execute_result"
    }
   ],
   "source": [
    "df.shape"
   ]
  },
  {
   "cell_type": "code",
   "execution_count": 9,
   "metadata": {},
   "outputs": [
    {
     "data": {
      "text/html": [
       "<div>\n",
       "<style scoped>\n",
       "    .dataframe tbody tr th:only-of-type {\n",
       "        vertical-align: middle;\n",
       "    }\n",
       "\n",
       "    .dataframe tbody tr th {\n",
       "        vertical-align: top;\n",
       "    }\n",
       "\n",
       "    .dataframe thead th {\n",
       "        text-align: right;\n",
       "    }\n",
       "</style>\n",
       "<table border=\"1\" class=\"dataframe\">\n",
       "  <thead>\n",
       "    <tr style=\"text-align: right;\">\n",
       "      <th></th>\n",
       "      <th>time_stamp</th>\n",
       "      <th>verified_fraction</th>\n",
       "    </tr>\n",
       "  </thead>\n",
       "  <tbody>\n",
       "    <tr>\n",
       "      <th>0</th>\n",
       "      <td>NaT</td>\n",
       "      <td>0</td>\n",
       "    </tr>\n",
       "    <tr>\n",
       "      <th>1</th>\n",
       "      <td>2020-10-08 22:11:00+00:00</td>\n",
       "      <td>0</td>\n",
       "    </tr>\n",
       "    <tr>\n",
       "      <th>2</th>\n",
       "      <td>2020-09-08 15:55:00+00:00</td>\n",
       "      <td>0</td>\n",
       "    </tr>\n",
       "    <tr>\n",
       "      <th>3</th>\n",
       "      <td>2020-10-11 01:19:00+00:00</td>\n",
       "      <td>0</td>\n",
       "    </tr>\n",
       "    <tr>\n",
       "      <th>4</th>\n",
       "      <td>2020-10-11 14:56:00+00:00</td>\n",
       "      <td>0</td>\n",
       "    </tr>\n",
       "  </tbody>\n",
       "</table>\n",
       "</div>"
      ],
      "text/plain": [
       "                 time_stamp  verified_fraction\n",
       "0                       NaT                  0\n",
       "1 2020-10-08 22:11:00+00:00                  0\n",
       "2 2020-09-08 15:55:00+00:00                  0\n",
       "3 2020-10-11 01:19:00+00:00                  0\n",
       "4 2020-10-11 14:56:00+00:00                  0"
      ]
     },
     "execution_count": 9,
     "metadata": {},
     "output_type": "execute_result"
    }
   ],
   "source": [
    "query = \"\"\"\n",
    "    SELECT\n",
    "         date_trunc('minute',  to_timestamp(bh.timestamp)) time_stamp\n",
    "        ,COUNT(mdp.is_verified) filter (where mdp.is_verified::BOOLEAN) / COUNT(mdp.deal_id) AS verified_fraction\n",
    "        \n",
    "    FROM market_deal_proposals as mdp\n",
    "    \n",
    "    LEFT JOIN block_headers bh\n",
    "        ON bh.parent_state_root = mdp.state_root\n",
    "        \n",
    "    GROUP BY date_trunc('minute',  to_timestamp(bh.timestamp))\n",
    "\"\"\"\n",
    "df = ( pd.read_sql(query, connection) )\n",
    "df.head()"
   ]
  },
  {
   "cell_type": "code",
   "execution_count": 10,
   "metadata": {},
   "outputs": [
    {
     "data": {
      "text/plain": [
       "(82116, 2)"
      ]
     },
     "execution_count": 10,
     "metadata": {},
     "output_type": "execute_result"
    }
   ],
   "source": [
    "df.shape"
   ]
  },
  {
   "cell_type": "code",
   "execution_count": 13,
   "metadata": {},
   "outputs": [
    {
     "data": {
      "text/html": [
       "<div>\n",
       "<style scoped>\n",
       "    .dataframe tbody tr th:only-of-type {\n",
       "        vertical-align: middle;\n",
       "    }\n",
       "\n",
       "    .dataframe tbody tr th {\n",
       "        vertical-align: top;\n",
       "    }\n",
       "\n",
       "    .dataframe thead th {\n",
       "        text-align: right;\n",
       "    }\n",
       "</style>\n",
       "<table border=\"1\" class=\"dataframe\">\n",
       "  <thead>\n",
       "    <tr style=\"text-align: right;\">\n",
       "      <th></th>\n",
       "      <th>count</th>\n",
       "    </tr>\n",
       "  </thead>\n",
       "  <tbody>\n",
       "    <tr>\n",
       "      <th>0</th>\n",
       "      <td>141056286</td>\n",
       "    </tr>\n",
       "  </tbody>\n",
       "</table>\n",
       "</div>"
      ],
      "text/plain": [
       "       count\n",
       "0  141056286"
      ]
     },
     "execution_count": 13,
     "metadata": {},
     "output_type": "execute_result"
    }
   ],
   "source": [
    "query = \"\"\"\n",
    "    SELECT \n",
    "         COUNT(*)       \n",
    "\n",
    "    FROM messages\n",
    "    \n",
    "\"\"\"\n",
    "df = ( pd.read_sql(query, connection) )\n",
    "df.head()"
   ]
  },
  {
   "cell_type": "code",
   "execution_count": null,
   "metadata": {},
   "outputs": [],
   "source": []
  }
 ],
 "metadata": {
  "kernelspec": {
   "display_name": "Python 3",
   "language": "python",
   "name": "python3"
  },
  "language_info": {
   "codemirror_mode": {
    "name": "ipython",
    "version": 3
   },
   "file_extension": ".py",
   "mimetype": "text/x-python",
   "name": "python",
   "nbconvert_exporter": "python",
   "pygments_lexer": "ipython3",
   "version": "3.8.6"
  }
 },
 "nbformat": 4,
 "nbformat_minor": 4
}
