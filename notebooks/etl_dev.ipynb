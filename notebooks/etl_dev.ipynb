{
 "cells": [
  {
   "cell_type": "code",
   "execution_count": 6,
   "metadata": {},
   "outputs": [],
   "source": [
    "# Dependences\n",
    "import os\n",
    "import json\n",
    "import requests as req\n",
    "import plotly.express as px\n",
    "import pandas as pd\n",
    "from sqlalchemy import create_engine\n",
    "from time import time\n",
    "\n",
    "# Prepare SQL connection string to be used on the functions\n",
    "CONN_STRING_PATH = '../config/sentinel-conn-string.txt'\n",
    "\n",
    "with open(CONN_STRING_PATH, 'r') as fid:\n",
    "    conn_string = fid.read()\n",
    "    \n",
    "connection = create_engine(conn_string, pool_recycle=3600).connect()"
   ]
  },
  {
   "cell_type": "code",
   "execution_count": 11,
   "metadata": {},
   "outputs": [
    {
     "data": {
      "text/html": [
       "<div>\n",
       "<style scoped>\n",
       "    .dataframe tbody tr th:only-of-type {\n",
       "        vertical-align: middle;\n",
       "    }\n",
       "\n",
       "    .dataframe tbody tr th {\n",
       "        vertical-align: top;\n",
       "    }\n",
       "\n",
       "    .dataframe thead th {\n",
       "        text-align: right;\n",
       "    }\n",
       "</style>\n",
       "<table border=\"1\" class=\"dataframe\">\n",
       "  <thead>\n",
       "    <tr style=\"text-align: right;\">\n",
       "      <th></th>\n",
       "      <th>circulating_fil</th>\n",
       "      <th>vested_fil</th>\n",
       "      <th>mined_fil</th>\n",
       "      <th>burnt_fil</th>\n",
       "      <th>locked_fil</th>\n",
       "      <th>timestamp</th>\n",
       "    </tr>\n",
       "  </thead>\n",
       "  <tbody>\n",
       "    <tr>\n",
       "      <th>0</th>\n",
       "      <td>1.633279e+07</td>\n",
       "      <td>8.175082e+06</td>\n",
       "      <td>8.225204e+06</td>\n",
       "      <td>3.598087e+06</td>\n",
       "      <td>1.353602e+07</td>\n",
       "      <td>2020-10-26 00:21:00+00:00</td>\n",
       "    </tr>\n",
       "    <tr>\n",
       "      <th>1</th>\n",
       "      <td>1.633279e+07</td>\n",
       "      <td>8.175082e+06</td>\n",
       "      <td>8.225204e+06</td>\n",
       "      <td>3.598087e+06</td>\n",
       "      <td>1.353602e+07</td>\n",
       "      <td>2020-10-26 00:21:00+00:00</td>\n",
       "    </tr>\n",
       "    <tr>\n",
       "      <th>2</th>\n",
       "      <td>1.633279e+07</td>\n",
       "      <td>8.175082e+06</td>\n",
       "      <td>8.225204e+06</td>\n",
       "      <td>3.598087e+06</td>\n",
       "      <td>1.353602e+07</td>\n",
       "      <td>2020-10-26 00:21:00+00:00</td>\n",
       "    </tr>\n",
       "    <tr>\n",
       "      <th>3</th>\n",
       "      <td>1.633279e+07</td>\n",
       "      <td>8.175082e+06</td>\n",
       "      <td>8.225204e+06</td>\n",
       "      <td>3.598087e+06</td>\n",
       "      <td>1.353602e+07</td>\n",
       "      <td>2020-10-26 00:21:00+00:00</td>\n",
       "    </tr>\n",
       "    <tr>\n",
       "      <th>4</th>\n",
       "      <td>1.633279e+07</td>\n",
       "      <td>8.175082e+06</td>\n",
       "      <td>8.225204e+06</td>\n",
       "      <td>3.598087e+06</td>\n",
       "      <td>1.353602e+07</td>\n",
       "      <td>2020-10-26 00:21:00+00:00</td>\n",
       "    </tr>\n",
       "  </tbody>\n",
       "</table>\n",
       "</div>"
      ],
      "text/plain": [
       "   circulating_fil    vested_fil     mined_fil     burnt_fil    locked_fil  \\\n",
       "0     1.633279e+07  8.175082e+06  8.225204e+06  3.598087e+06  1.353602e+07   \n",
       "1     1.633279e+07  8.175082e+06  8.225204e+06  3.598087e+06  1.353602e+07   \n",
       "2     1.633279e+07  8.175082e+06  8.225204e+06  3.598087e+06  1.353602e+07   \n",
       "3     1.633279e+07  8.175082e+06  8.225204e+06  3.598087e+06  1.353602e+07   \n",
       "4     1.633279e+07  8.175082e+06  8.225204e+06  3.598087e+06  1.353602e+07   \n",
       "\n",
       "                  timestamp  \n",
       "0 2020-10-26 00:21:00+00:00  \n",
       "1 2020-10-26 00:21:00+00:00  \n",
       "2 2020-10-26 00:21:00+00:00  \n",
       "3 2020-10-26 00:21:00+00:00  \n",
       "4 2020-10-26 00:21:00+00:00  "
      ]
     },
     "execution_count": 11,
     "metadata": {},
     "output_type": "execute_result"
    }
   ],
   "source": [
    "QUERY = \"\"\"\n",
    "        SELECT \n",
    "        ce.circulating_fil::NUMERIC / 1e18 AS circulating_fil,\n",
    "        ce.vested_fil::NUMERIC / 1e18 AS vested_fil,\n",
    "        ce.mined_fil::NUMERIC / 1e18 AS mined_fil,\n",
    "        ce.burnt_fil::NUMERIC / 1e18 AS burnt_fil,\n",
    "        ce.locked_fil::NUMERIC / 1e18 AS locked_fil,\n",
    "        to_timestamp(b.timestamp) AS timestamp\n",
    "        \n",
    "        FROM chain_economics ce\n",
    "        LEFT JOIN block_headers b \n",
    "            ON b.parent_state_root = ce.parent_state_root\n",
    "            \"\"\"\n",
    "\n",
    "df = ( pd.read_sql(QUERY, connection) )\n",
    "df.head()"
   ]
  },
  {
   "cell_type": "code",
   "execution_count": 14,
   "metadata": {},
   "outputs": [
    {
     "data": {
      "text/plain": [
       "(730096, 6)"
      ]
     },
     "execution_count": 14,
     "metadata": {},
     "output_type": "execute_result"
    }
   ],
   "source": [
    "df.shape"
   ]
  },
  {
   "cell_type": "code",
   "execution_count": null,
   "metadata": {},
   "outputs": [],
   "source": []
  }
 ],
 "metadata": {
  "kernelspec": {
   "display_name": "Python 3",
   "language": "python",
   "name": "python3"
  },
  "language_info": {
   "codemirror_mode": {
    "name": "ipython",
    "version": 3
   },
   "file_extension": ".py",
   "mimetype": "text/x-python",
   "name": "python",
   "nbconvert_exporter": "python",
   "pygments_lexer": "ipython3",
   "version": "3.8.6"
  }
 },
 "nbformat": 4,
 "nbformat_minor": 4
}
