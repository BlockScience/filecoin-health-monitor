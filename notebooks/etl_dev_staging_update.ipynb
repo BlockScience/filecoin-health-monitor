{
 "cells": [
  {
   "cell_type": "code",
   "execution_count": null,
   "metadata": {},
   "outputs": [],
   "source": [
    "# Dependences\n",
    "import os\n",
    "import json\n",
    "import requests as req\n",
    "import plotly.express as px\n",
    "import pandas as pd\n",
    "from sqlalchemy import create_engine, Table, Column, Integer, String, DateTime, Numeric, MetaData\n",
    "from time import time\n",
    "\n",
    "# Prepare SQL connection string to be used on the functions\n",
    "CONN_STRING_PATH = '../config/sentinel-conn-string.txt'\n",
    "CONN_STRING_PATH_ETL = '../config/etl_connection_string.txt'\n",
    "\n",
    "with open(CONN_STRING_PATH, 'r') as fid:\n",
    "    conn_string = fid.read()\n",
    "    \n",
    "with open(CONN_STRING_PATH_ETL, 'r') as fid:\n",
    "    conn_string_etl = fid.read()\n",
    "    \n",
    "connection = create_engine(conn_string, pool_recycle=3600).connect()\n",
    "\n",
    "## bulk insert requres some \"executemany_*\" arguments\n",
    "connection_etl = create_engine(\n",
    "     conn_string_etl\n",
    "    ,pool_recycle=3600\n",
    "    ,executemany_mode='values'\n",
    "    ,executemany_values_page_size=10000\n",
    "    ).connect()"
   ]
  },
  {
   "cell_type": "code",
   "execution_count": null,
   "metadata": {},
   "outputs": [],
   "source": [
    "def update_chain_economics:\n",
    "    ## check last date\n",
    "    ## query new data\n",
    "    ## load new data into staging"
   ]
  },
  {
   "cell_type": "code",
   "execution_count": null,
   "metadata": {},
   "outputs": [],
   "source": [
    "def update_chain_power:\n",
    "    ## check last date\n",
    "    ## query new data\n",
    "    ## load new data into staging"
   ]
  },
  {
   "cell_type": "code",
   "execution_count": null,
   "metadata": {},
   "outputs": [],
   "source": [
    "def update_chain_rewards:\n",
    "    ## check last date\n",
    "    ## query new data\n",
    "    ## load new data into staging"
   ]
  },
  {
   "cell_type": "code",
   "execution_count": null,
   "metadata": {},
   "outputs": [],
   "source": [
    "def update_miner_sector_infos:\n",
    "    ## check last date\n",
    "    ## query new data\n",
    "    ## load new data into staging"
   ]
  },
  {
   "cell_type": "code",
   "execution_count": null,
   "metadata": {},
   "outputs": [],
   "source": [
    "def update_market_deal_states:\n",
    "    ## check last date\n",
    "    ## query new data\n",
    "    ## load new data into staging"
   ]
  },
  {
   "cell_type": "code",
   "execution_count": null,
   "metadata": {},
   "outputs": [],
   "source": [
    "def update_market_deal_proposals:\n",
    "    ## check last date\n",
    "    ## query new data\n",
    "    ## load new data into staging"
   ]
  }
 ],
 "metadata": {
  "kernelspec": {
   "display_name": "Python 3",
   "language": "python",
   "name": "python3"
  },
  "language_info": {
   "codemirror_mode": {
    "name": "ipython",
    "version": 3
   },
   "file_extension": ".py",
   "mimetype": "text/x-python",
   "name": "python",
   "nbconvert_exporter": "python",
   "pygments_lexer": "ipython3",
   "version": "3.8.6"
  }
 },
 "nbformat": 4,
 "nbformat_minor": 4
}
